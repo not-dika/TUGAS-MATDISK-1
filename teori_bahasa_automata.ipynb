{
 "cells": [
  {
   "cell_type": "markdown",
   "metadata": {},
   "source": [
    "1. Pencocokan RegEx (Regular Expression):  \n",
    "Teori bahasa automata dapat digunakan untuk mencocokan string dengan RegEx menggunakan model DFA (Deterministic Finite Automaton)"
   ]
  },
  {
   "cell_type": "code",
   "execution_count": 4,
   "metadata": {},
   "outputs": [
    {
     "name": "stdout",
     "output_type": "stream",
     "text": [
      "True\n",
      "False\n",
      "False\n"
     ]
    }
   ],
   "source": [
    "class State:\n",
    "    def __init__(self, name):\n",
    "        self.name = name\n",
    "        self.next_state = {}\n",
    "\n",
    "    def add_transition(self, input_char, state):\n",
    "        self.next_state[input_char] = state\n",
    "\n",
    "class DFA:\n",
    "    def __init__(self, states, initial_state, final_states):\n",
    "        self.states = states\n",
    "        self.initial_state = initial_state\n",
    "        self.final_states = final_states\n",
    "\n",
    "    def accept(self, input_string):\n",
    "        current_state = self.initial_state\n",
    "        for char in input_string:\n",
    "            if char in self.states[current_state].next_state:\n",
    "                current_state = self.states[current_state].next_state[char]\n",
    "            else:\n",
    "                return False\n",
    "        return current_state in self.final_states\n",
    "\n",
    "# Mengdefinisikan state\n",
    "q0 = State(\"q0\")\n",
    "q1 = State(\"q1\")\n",
    "q2 = State(\"q2\")\n",
    "q3 = State(\"q3\")\n",
    "\n",
    "# Menambahkan transisi\n",
    "q0.add_transition('a', 'q1')\n",
    "q1.add_transition('b', 'q2')\n",
    "q2.add_transition('b', 'q2')\n",
    "q2.add_transition('c', 'q3')\n",
    "\n",
    "# Membuat DFA dengan RegEx \"a*bc\"\n",
    "states = {'q0': q0, 'q1': q1, 'q2': q2, 'q3': q3}\n",
    "initial_state = 'q0'\n",
    "final_states = {'q3'}\n",
    "\n",
    "dfa = DFA(states, initial_state, final_states)\n",
    "\n",
    "# Uji string input\n",
    "print(dfa.accept(\"abbc\"))  # Output: True\n",
    "print(dfa.accept(\"ab\"))    # Output: False\n",
    "print(dfa.accept(\"bac\"))   # Output: False"
   ]
  },
  {
   "cell_type": "markdown",
   "metadata": {},
   "source": [
    "2. Membuat Compiler:  \n",
    "Teori bahasa automata juga bisa dapat digunakan untuk membuat sebuah compiler menggunakan PDA (Pushdown Automaton)"
   ]
  },
  {
   "cell_type": "code",
   "execution_count": 5,
   "metadata": {},
   "outputs": [
    {
     "name": "stdout",
     "output_type": "stream",
     "text": [
      "True\n",
      "True\n",
      "False\n"
     ]
    }
   ],
   "source": [
    "# Membuat PDA yang menerima bahasa {a^n b^n | n >= 0}\n",
    "class PDA:\n",
    "    def __init__(self):\n",
    "        self.stack = []\n",
    "\n",
    "    def accepts(self, s):\n",
    "        for char in s:\n",
    "            if char == 'a':\n",
    "                self.stack.append('a')\n",
    "            elif char == 'b':\n",
    "                if not self.stack or self.stack[-1] != 'a':\n",
    "                    return False\n",
    "                self.stack.pop()\n",
    "        return not self.stack\n",
    "\n",
    "pda = PDA()\n",
    "\n",
    "# Uji string input\n",
    "print(pda.accepts('aabb'))\n",
    "print(pda.accepts('abab'))\n",
    "print(pda.accepts('aab'))"
   ]
  }
 ],
 "metadata": {
  "kernelspec": {
   "display_name": "Python 3",
   "language": "python",
   "name": "python3"
  },
  "language_info": {
   "codemirror_mode": {
    "name": "ipython",
    "version": 3
   },
   "file_extension": ".py",
   "mimetype": "text/x-python",
   "name": "python",
   "nbconvert_exporter": "python",
   "pygments_lexer": "ipython3",
   "version": "3.10.13"
  }
 },
 "nbformat": 4,
 "nbformat_minor": 2
}
